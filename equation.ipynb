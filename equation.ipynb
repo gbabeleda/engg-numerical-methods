{
 "cells": [
  {
   "cell_type": "markdown",
   "metadata": {},
   "source": [
    "# Equations Notebook\n",
    "\n",
    "This is the file that will be used to develop and describe the equation classes that we will use to create equation objects.\n",
    "\n",
    "To actually import the modules into the other jupyter notebooks, a equation.py will be made"
   ]
  },
  {
   "cell_type": "markdown",
   "metadata": {},
   "source": [
    "\n",
    "# Algebraic Equation\n",
    "\n",
    "An equation of the form $P = 0$ where P is a polynomial with coefficients in some field.\n",
    "\n",
    "Univariate Equation\n",
    "- Polynomials with only one variable\n",
    "\n",
    "Multivariate Equation\n",
    "- Polynomials with several variables\n",
    "\n",
    "\n",
    "## Linear Equations\n",
    "\n",
    "\n",
    "\n",
    "## Transcendental Equations\n",
    "A transcendental equation over real/complex numbers that is not algebraic if at least one of its sides describes a transcendental function. \n",
    "\n",
    "\n",
    "\n",
    "\n",
    "Exponential Equations\n",
    "- if the unknown occurs only exponents, applying the natural logarithm to both sides may yield an algebraic equation\n",
    "  \n",
    "\n",
    "Logarithmic Equations\n",
    "if the unknown occurs only logarithms, applying  exponentiation to both sides may yield an algebraic equation\n",
    "\n",
    "Trigonometric Equations\n",
    "\n",
    "\n",
    "Hyperbolic Equations\n",
    "\n",
    "### Systems of Linear Equations\n",
    "\n",
    "A collection of uni/multivariate linear equations. A solution is an assignment of numbers such that all equations are simultaneously satisfied. \n",
    "\n",
    "\n",
    "## Non-linear Equations\n",
    "\n",
    "\n",
    "\n",
    "### Transcendental Equation\n",
    "An equation that invovles a transcendental function such as an exponential, logarithmic or trigonometric functions."
   ]
  },
  {
   "cell_type": "code",
   "execution_count": null,
   "metadata": {},
   "outputs": [],
   "source": [
    "import numpy as np\n",
    "import scipy as sp\n",
    "import seaborn as sns"
   ]
  }
 ],
 "metadata": {
  "kernelspec": {
   "display_name": "Python 3",
   "language": "python",
   "name": "python3"
  },
  "language_info": {
   "name": "python",
   "version": "3.11.4"
  },
  "orig_nbformat": 4
 },
 "nbformat": 4,
 "nbformat_minor": 2
}
