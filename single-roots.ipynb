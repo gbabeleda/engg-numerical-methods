{
 "cells": [
  {
   "cell_type": "code",
   "execution_count": 12,
   "metadata": {},
   "outputs": [],
   "source": [
    "import numpy as np\n",
    "import scipy as sp\n",
    "import seaborn as sns"
   ]
  },
  {
   "cell_type": "code",
   "execution_count": null,
   "metadata": {},
   "outputs": [],
   "source": [
    "# this might be useless HAHAHA. Was a good exercise though\n",
    "\n",
    "# get_degree returns the degree of the polynomial\n",
    "# Iteration 2\n",
    "def get_degree():\n",
    "\n",
    "    attempts = 0 \n",
    "    \n",
    "    # while block runs for 5 maximum wrong inputs\n",
    "    while attempts < 5:\n",
    "        # try block relatively unchanged\n",
    "        try:\n",
    "            \n",
    "            degree = int(input('What is the degree of the equation'))\n",
    "            \n",
    "            if degree > 0:\n",
    "                print(f'The degree of the polynomial is: {degree}')\n",
    "                return degree\n",
    "            else:\n",
    "                print('Please input a positive integer')\n",
    "                \n",
    "        # except block adds to attempts. Only counts unsuccessful attempts. \n",
    "        except ValueError:\n",
    "            \n",
    "            attempts += 1\n",
    "            \n",
    "            if attempts < 5:\n",
    "                print(f'Input must be an int. Attempts remaining: {5 - attempts}')\n",
    "            else: \n",
    "                print('Could not get valid degree of polynomial')\n",
    "                return None\n",
    "\n",
    "\n",
    "# get_equation takes some int as degree and allows you to represent a polynomial as a numpy array\n",
    "# Iteration 2\n",
    "def get_equation(degree):\n",
    "    \n",
    "    # coefficients exist outside of for loop, for loop mutates coefficients\n",
    "    coefficients = np.array([])\n",
    "    \n",
    "    for i in range(degree + 1):\n",
    "        \n",
    "        attempts = 0 \n",
    "        \n",
    "        # for each i, while loop runs max 5 times\n",
    "        while attempts < 5: \n",
    "            try: \n",
    "                \n",
    "                # if block returns coeff if successful. \n",
    "                if i == degree:\n",
    "                    coeff = float(input(f'What is the coefficient of the constant: '))\n",
    "                else:\n",
    "                    coeff = float(input(f'What is the coefficient of the term x^{degree-i}: '))\n",
    "        \n",
    "                coefficients = np.append(coefficients,coeff)\n",
    "                \n",
    "                # break when coeff is assigned, after appending\n",
    "                break\n",
    "            \n",
    "            except ValueError:\n",
    "                attempts += 1\n",
    "                \n",
    "                if attempts < 5:\n",
    "                    print(f'Please input a number. Attempts taken: {5 - attempts}')\n",
    "                else:\n",
    "                    print('Maximum attempts reached')\n",
    "                    return None\n",
    "                         \n",
    "    if len(coefficients) == degree + 1:\n",
    "        print(f'Coefficients: {coefficients}')\n",
    "        return coefficients      \n",
    "    else:\n",
    "        print('Could not get all coefficients.')\n",
    "        return None\n",
    "      "
   ]
  },
  {
   "cell_type": "code",
   "execution_count": null,
   "metadata": {},
   "outputs": [],
   "source": [
    "class Polynomial():\n",
    "    def __init__(self,degree,coefficients):\n",
    "        self.degree = degree\n",
    "        self.coefficients = coefficients\n",
    "    \n",
    "    \n",
    "    def evaluate(coefficient,x): \n",
    "        \n",
    "    def differentiate():\n",
    "        \n",
    "        \n",
    "    def integrate():\n",
    "        "
   ]
  },
  {
   "cell_type": "markdown",
   "metadata": {},
   "source": [
    "# Bisection Method\n",
    "\n",
    "Intermediate Value Theorem\n",
    "\n",
    "\n",
    "\n",
    "Interval [a,b]\n",
    "Polynomial f(x)\n",
    "\n",
    "\n"
   ]
  },
  {
   "cell_type": "code",
   "execution_count": null,
   "metadata": {},
   "outputs": [],
   "source": [
    "# get interval [a,b]\n",
    "# iteration 1\n",
    "def find_interval():\n",
    "    \n",
    "    interval = np.array([])\n",
    "    \n",
    "    while len(interval) < 2:\n",
    "        \n",
    "        attempts = 0\n",
    "        \n",
    "        while attempts < 5:\n",
    "            try:\n",
    "                \n",
    "                if len(interval) == 0:\n",
    "                    lower = float(input('What is a: '))\n",
    "                    interval = np.append(interval,lower)\n",
    "                    break\n",
    "                \n",
    "                elif len(interval) == 1:\n",
    "                    upper = float(input('What is b: '))\n",
    "                    interval = np.append(interval,upper)\n",
    "                    break\n",
    "                \n",
    "            except ValueError:\n",
    "                attempts += 1\n",
    "                \n",
    "                if attempts < 5:\n",
    "                    print(f'Please input a number. Attempts taken: {5 - attempts}')\n",
    "                else:\n",
    "                    print('Maximum attempts reached')\n",
    "                    return None\n",
    "    \n",
    "    if len(interval) == 2:\n",
    "        print(f'Interval [a,b] is {interval}')\n",
    "        return interval\n",
    "    else:\n",
    "        print('Could not find valid interval')\n",
    "        return None"
   ]
  },
  {
   "cell_type": "markdown",
   "metadata": {},
   "source": [
    "To create the evaluate polynomial function we need to learn a couple of concepts in python to make things a bit easier:\n",
    "- `reversed()`\n",
    "- list comprehensions\n",
    "\n",
    "`reversed()`\n",
    "- returns an interator that accesses the given sequence in reverse order\n",
    "\n",
    "list comprehensions\n",
    "\n"
   ]
  },
  {
   "cell_type": "code",
   "execution_count": 28,
   "metadata": {},
   "outputs": [],
   "source": [
    "coefficients = np.array([1,-6,11,-6])\n",
    "\n"
   ]
  },
  {
   "cell_type": "code",
   "execution_count": 42,
   "metadata": {},
   "outputs": [],
   "source": [
    "def evaluate_polynomial(coefficients,point):\n",
    "    \n",
    "    evaluated = np.array([point ** i for i in reversed(range(len(coefficients)))])\n",
    "    \n",
    "    print(f'Evaluated Powers: {evaluated} \\nCoefficients: {coefficients}' )\n",
    "    \n",
    "    return np.dot(coefficients,evaluated)\n"
   ]
  },
  {
   "cell_type": "code",
   "execution_count": 50,
   "metadata": {},
   "outputs": [],
   "source": [
    "def differentiate_polynomial(coefficients):\n",
    "    \n",
    "    degree = np.array([i for i in reversed(range(len(coefficients)))])\n",
    "    \n",
    "    differential = coefficients * degree\n",
    "    \n",
    "    differential = differential[:-1]\n",
    "    \n",
    "    print(f'Original Degree: {degree} \\nDifferential: {differential}')\n",
    "    return differential"
   ]
  },
  {
   "cell_type": "code",
   "execution_count": 43,
   "metadata": {},
   "outputs": [
    {
     "name": "stdout",
     "output_type": "stream",
     "text": [
      "Evaluated Powers: [42.875 12.25   3.5    1.   ] \n",
      "Coefficients: [ 1 -6 11 -6]\n"
     ]
    },
    {
     "data": {
      "text/plain": [
       "1.875"
      ]
     },
     "execution_count": 43,
     "metadata": {},
     "output_type": "execute_result"
    }
   ],
   "source": [
    "evaluate_polynomial(coefficients,3.5)"
   ]
  },
  {
   "cell_type": "code",
   "execution_count": 51,
   "metadata": {},
   "outputs": [
    {
     "name": "stdout",
     "output_type": "stream",
     "text": [
      "Original Degree: [3 2 1 0] \n",
      "Differential: [  3 -12  11]\n"
     ]
    },
    {
     "data": {
      "text/plain": [
       "array([  3, -12,  11])"
      ]
     },
     "execution_count": 51,
     "metadata": {},
     "output_type": "execute_result"
    }
   ],
   "source": [
    "differentiate_polynomial(coefficients)"
   ]
  },
  {
   "cell_type": "code",
   "execution_count": null,
   "metadata": {},
   "outputs": [],
   "source": [
    "def bisection(coefficients,interval):\n",
    "    fa = evaluate_polynomial(coefficients, interval[0])\n",
    "    fb = evaluate_polynomial(coefficients, interval[1])\n",
    "\n",
    "    # bisection method needs f(a) and f(b) to have opposite signs, if positive, same signs\n",
    "    if fa * fb > 0: \n",
    "        print('No roots for given interval')\n",
    "        return None \n",
    "    \n",
    "    else: \n",
    "        \n",
    "    \n",
    "    "
   ]
  },
  {
   "cell_type": "code",
   "execution_count": null,
   "metadata": {},
   "outputs": [],
   "source": [
    "bisection()"
   ]
  },
  {
   "cell_type": "markdown",
   "metadata": {},
   "source": [
    "# Newton-Raphson"
   ]
  },
  {
   "cell_type": "code",
   "execution_count": null,
   "metadata": {},
   "outputs": [],
   "source": [
    "def newtonRaphson():\n",
    "    "
   ]
  },
  {
   "cell_type": "markdown",
   "metadata": {},
   "source": [
    "# "
   ]
  },
  {
   "cell_type": "markdown",
   "metadata": {},
   "source": [
    "# Secant Method"
   ]
  },
  {
   "cell_type": "code",
   "execution_count": null,
   "metadata": {},
   "outputs": [],
   "source": [
    "def secant():\n",
    "    "
   ]
  },
  {
   "cell_type": "markdown",
   "metadata": {},
   "source": [
    "# Regula False Method"
   ]
  },
  {
   "cell_type": "code",
   "execution_count": null,
   "metadata": {},
   "outputs": [],
   "source": [
    "def regulaFalsi():\n",
    "    "
   ]
  },
  {
   "cell_type": "markdown",
   "metadata": {},
   "source": [
    "# Bairstow Method"
   ]
  },
  {
   "cell_type": "code",
   "execution_count": null,
   "metadata": {},
   "outputs": [],
   "source": [
    "def Bairstow():\n",
    "    \n"
   ]
  }
 ],
 "metadata": {
  "kernelspec": {
   "display_name": "Python 3",
   "language": "python",
   "name": "python3"
  },
  "language_info": {
   "codemirror_mode": {
    "name": "ipython",
    "version": 3
   },
   "file_extension": ".py",
   "mimetype": "text/x-python",
   "name": "python",
   "nbconvert_exporter": "python",
   "pygments_lexer": "ipython3",
   "version": "3.11.4"
  },
  "orig_nbformat": 4
 },
 "nbformat": 4,
 "nbformat_minor": 2
}
