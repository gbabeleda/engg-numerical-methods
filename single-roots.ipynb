{
 "cells": [
  {
   "cell_type": "code",
   "execution_count": 1,
   "metadata": {},
   "outputs": [],
   "source": [
    "import numpy as np\n",
    "import scipy as sp\n",
    "import seaborn as sns"
   ]
  },
  {
   "cell_type": "markdown",
   "metadata": {},
   "source": [
    "# class `Equation`\n",
    "- covers all mathematical equations that can be used with numerical methods\n",
    "\n"
   ]
  },
  {
   "cell_type": "code",
   "execution_count": 149,
   "metadata": {},
   "outputs": [],
   "source": [
    "class Equation:\n",
    "   class LinearEquation:\n",
    "       \n",
    "       \n",
    "    class NonLinearEquation:\n",
    "           \n",
    "       \n",
    "        class Polynomial:\n",
    "            def __init__(self,coefficients):"
   ]
  },
  {
   "cell_type": "code",
   "execution_count": 30,
   "metadata": {},
   "outputs": [],
   "source": [
    "\n",
    "class Polynomial:\n",
    "    def __init__(self, coefficients):\n",
    "        # coeffcients are [ax^n,bx^n-1,cx^n-n]\n",
    "        try: \n",
    "            self.coefficients = np.array(coefficients)\n",
    "        except Exception: \n",
    "            raise ValueError('Coefficients must be an array-like object (list/tuple)')\n",
    "        \n",
    "        if self.coefficients.size == 0: \n",
    "            raise ValueError('The coefficient matrix must not be empty')\n",
    "        \n",
    "        if self.coefficients.dtype not in [np.int64,np.float64]:\n",
    "            raise ValueError('Elements of the coefficient matrix must be int or float')    \n",
    "                     \n",
    "        if self.coefficients[0] == 0:\n",
    "            raise ValueError('The leading element must be non-zero')          \n",
    "        \n",
    "        self.degree = len(self.coefficients) - 1      \n",
    "        \n",
    "    def __str__(self):\n",
    "        terms = []\n",
    "\n",
    "        # this can also probably be done using reversed(range(len(self.coefficients)))\n",
    "            \n",
    "        for i, coeff in enumerate(reversed(self.coefficients)):\n",
    "            if coeff == 0:\n",
    "                continue\n",
    "            term = ''\n",
    "            if i == 0:\n",
    "                if coeff > 0: \n",
    "                    term += '+'    \n",
    "                term += str(coeff)\n",
    "            elif i == 1:\n",
    "                if abs(coeff) == 1:\n",
    "                    if coeff > 0:\n",
    "                        if len(self.coefficients) > 2: \n",
    "                            term += '+'\n",
    "                        term += f'x'\n",
    "                    else:\n",
    "                        term += f'-x'\n",
    "                        \n",
    "                else:\n",
    "                    if coeff > 0:\n",
    "                        term += '+'    \n",
    "                    term += f'{coeff}x'\n",
    "            else:\n",
    "                if abs(coeff) == 1:\n",
    "                    if coeff > 0:\n",
    "                        if len(self.coefficients) > 2 and i < len(self.coefficients)-1:\n",
    "                            term += '+'\n",
    "                        term += f'x^{i}'\n",
    "                    else:\n",
    "                        term += f'-x^{i}'\n",
    "                else:\n",
    "                    if coeff > 0 and i < len(self.coefficients)-1:\n",
    "                        term += '+'\n",
    "                    term += f'{coeff}x^{i}'\n",
    "\n",
    "            \n",
    "            terms.append(term)           \n",
    "        \n",
    "            \n",
    "        return ''.join(reversed(terms))\n",
    "              \n",
    "    def __repr__(self):\n",
    "        return f'Polynomial(coefficients={self.coefficients.tolist()})'\n",
    "    \n",
    "    def __add__(self,other):\n",
    "        ...\n",
    "\n",
    "    def __sub__(self,other):\n",
    "        ...\n",
    "    \n",
    "    def __mul__(self,other):\n",
    "        ...\n",
    "             \n",
    "    def evaluate(self,point): \n",
    "\n",
    "        evaluated = np.array([])\n",
    "        \n",
    "        for i, coeff in enumerate(reversed(self.coefficients)):\n",
    "            evaluated = np.append(evaluated, coeff * point ** i )\n",
    "            # print(f'Coeff: {coeff} i: {i} evaluated: {evaluated}')\n",
    "            \n",
    "        return sum(evaluated)\n",
    "        \n",
    "    def differentiate(self): \n",
    "        \n",
    "        differentiated = np.array([])\n",
    "        \n",
    "        for i, coeff in enumerate(reversed(self.coefficients)):\n",
    "            differentiated = np.append(differentiated, coeff * i )\n",
    "            # print(f'i: {i} coeff: {coeff} term: {coeff * i}')\n",
    "            \n",
    "        differentiated = list(reversed(differentiated))[:-1]\n",
    "        \n",
    "        # print(new_coefficients)\n",
    "        # print(differentiated)\n",
    "\n",
    "        return Polynomial(differentiated)\n",
    "        \n",
    "    def integrate(self, constant = 0):\n",
    "        ...\n"
   ]
  },
  {
   "cell_type": "code",
   "execution_count": 31,
   "metadata": {},
   "outputs": [
    {
     "name": "stdout",
     "output_type": "stream",
     "text": [
      "x^3-6x^2+11x-6\n"
     ]
    }
   ],
   "source": [
    "p1 = Polynomial([1,-6,11,-6])\n",
    "\n",
    "p1.evaluate(3.5)\n",
    "\n",
    "print(p1)\n"
   ]
  },
  {
   "cell_type": "code",
   "execution_count": 34,
   "metadata": {},
   "outputs": [
    {
     "name": "stdout",
     "output_type": "stream",
     "text": [
      "3.0x^2-12.0x+11.0\n"
     ]
    },
    {
     "data": {
      "text/plain": [
       "11.0"
      ]
     },
     "execution_count": 34,
     "metadata": {},
     "output_type": "execute_result"
    }
   ],
   "source": [
    "p2 = p1.differentiate()\n",
    "\n",
    "print(p2)\n",
    "\n",
    "p2.evaluate(0)"
   ]
  },
  {
   "cell_type": "markdown",
   "metadata": {},
   "source": [
    "# Bisection Method\n",
    "\n",
    "Suppose $f(x) = 0$ is known to have a real root x, in an interval $[a,b]$. \n",
    "\n",
    "Intermediate Value Theorem\n",
    "- $f(x)$ is continuous on closed interval $[a,b]$.\n",
    "- M is any number between $f(a)$ and $f(b)$\n",
    "- Then there is at least one number c such as $f(c) = M$\n",
    "\n",
    "Consequently\n",
    "- $f(x)$ is continuous on closed interval $[a,b]$.\n",
    "- $f(a)$ and $f(b)$ are of opposite signs\n",
    "- Then theree is a root x = c of $f(c)$\n",
    "\n",
    "If c is not the desired root test $f(c) \\cdot f(a) < 0$. If so let $b = c$ and $a = a$, otherwise the opposite\n",
    "\n",
    "Inputs\n",
    "- function $f(x)$\n",
    "- two numbers $a,b$\n"
   ]
  },
  {
   "cell_type": "code",
   "execution_count": 122,
   "metadata": {},
   "outputs": [],
   "source": [
    "def bisection(function,a,b,tolerance = 1e-9, maxIter = 50):\n",
    "    poly = Polynomial(function)\n",
    "    fa = poly.evaluate(a)\n",
    "    fb = poly.evaluate(b)\n",
    "\n",
    "    # bisection method needs f(a) and f(b) to have opposite signs, if positive, same signs\n",
    "    # if fa * fb > 0: \n",
    "    if fa * fb > 0:\n",
    "        print('No roots for given interval')\n",
    "        return None \n",
    "    \n",
    "    iteration = 1\n",
    "    fc = 1000\n",
    "       \n",
    "    while iteration <= maxIter and (b-a)/2 > tolerance:\n",
    "        \n",
    "        c = (a+b)/2\n",
    "        fc = poly.evaluate(c)\n",
    "        \n",
    "        print(f'Iteration: {iteration} a: {a} b: {b} c: {c} f(c) : {fc}')\n",
    "        \n",
    "        if abs(fc) < tolerance:\n",
    "            break\n",
    "        \n",
    "        if fa * fc < 0:\n",
    "            b = c\n",
    "            fb = fc\n",
    "            \n",
    "        else:\n",
    "            a = c\n",
    "            fa = fc\n",
    "        \n",
    "        iteration += 1   \n",
    "    \n",
    "    if iteration == maxIter:\n",
    "        return 'Maximum iterations reached'\n",
    "    else: \n",
    "        return c, f'Root {c} found after {iteration} iterations' "
   ]
  },
  {
   "cell_type": "code",
   "execution_count": 120,
   "metadata": {},
   "outputs": [],
   "source": [
    "test_polynomial = [1,-6,11,-6]"
   ]
  },
  {
   "cell_type": "code",
   "execution_count": 121,
   "metadata": {},
   "outputs": [
    {
     "name": "stdout",
     "output_type": "stream",
     "text": [
      "Iteration: 1 a: 1 b: 2.9 c: 1.95 f(c) : 0.049875000000001\n",
      "Iteration: 2 a: 1.95 b: 2.9 c: 2.425 f(c) : -0.3482343750000041\n",
      "Iteration: 3 a: 1.95 b: 2.425 c: 2.1875 f(c) : -0.180908203125\n",
      "Iteration: 4 a: 1.95 b: 2.1875 c: 2.06875 f(c) : -0.06842504882812506\n",
      "Iteration: 5 a: 1.95 b: 2.06875 c: 2.009375 f(c) : -0.0093741760253927\n",
      "Iteration: 6 a: 1.95 b: 2.009375 c: 1.9796874999999998 f(c) : 0.02030411911010699\n",
      "Iteration: 7 a: 1.9796874999999998 b: 2.009375 c: 1.9945312499999999 f(c) : 0.005468586444855816\n",
      "Iteration: 8 a: 1.9945312499999999 b: 2.009375 c: 2.001953125 f(c) : -0.001953117549419403\n",
      "Iteration: 9 a: 1.9945312499999999 b: 2.001953125 c: 1.9982421874999998 f(c) : 0.001757807068524464\n",
      "Iteration: 10 a: 1.9982421874999998 b: 2.001953125 c: 2.00009765625 f(c) : -9.765624906776793e-05\n",
      "Iteration: 11 a: 1.9982421874999998 b: 2.00009765625 c: 1.9991699218749999 f(c) : 0.0008300775530480919\n",
      "Iteration: 12 a: 1.9991699218749999 b: 2.00009765625 c: 1.9996337890625 f(c) : 0.0003662108883872861\n",
      "Iteration: 13 a: 1.9996337890625 b: 2.00009765625 c: 1.99986572265625 f(c) : 0.00013427734132687164\n",
      "Iteration: 14 a: 1.99986572265625 b: 2.00009765625 c: 1.9999816894531248 f(c) : 1.831054686807221e-05\n",
      "Iteration: 15 a: 1.9999816894531248 b: 2.00009765625 c: 2.000039672851562 f(c) : -3.9672851501748596e-05\n",
      "Iteration: 16 a: 1.9999816894531248 b: 2.000039672851562 c: 2.0000106811523435 f(c) : -1.0681152348368528e-05\n",
      "Iteration: 17 a: 1.9999816894531248 b: 2.0000106811523435 c: 1.9999961853027342 f(c) : 3.814697266513178e-06\n",
      "Iteration: 18 a: 1.9999961853027342 b: 2.0000106811523435 c: 2.0000034332275387 f(c) : -3.4332275387072286e-06\n",
      "Iteration: 19 a: 1.9999961853027342 b: 2.0000034332275387 c: 1.9999998092651365 f(c) : 1.9073486079435042e-07\n",
      "Iteration: 20 a: 1.9999998092651365 b: 2.0000034332275387 c: 2.0000016212463376 f(c) : -1.621246338956439e-06\n",
      "Iteration: 21 a: 1.9999998092651365 b: 2.0000016212463376 c: 2.0000007152557373 f(c) : -7.152557373046875e-07\n",
      "Iteration: 22 a: 1.9999998092651365 b: 2.0000007152557373 c: 2.000000262260437 f(c) : -2.6226043381427644e-07\n",
      "Iteration: 23 a: 1.9999998092651365 b: 2.000000262260437 c: 2.0000000357627865 f(c) : -3.5762788286319847e-08\n",
      "Iteration: 24 a: 1.9999998092651365 b: 2.0000000357627865 c: 1.9999999225139615 f(c) : 7.748603447765845e-08\n",
      "Iteration: 25 a: 1.9999999225139615 b: 2.0000000357627865 c: 1.999999979138374 f(c) : 2.086162531611535e-08\n",
      "Iteration: 26 a: 1.999999979138374 b: 2.0000000357627865 c: 2.00000000745058 f(c) : -7.450578820566989e-09\n",
      "Iteration: 27 a: 1.999999979138374 b: 2.00000000745058 c: 1.9999999932944772 f(c) : 6.705521471417342e-09\n",
      "Iteration: 28 a: 1.9999999932944772 b: 2.00000000745058 c: 2.0000000003725287 f(c) : -3.7253045093166293e-10\n"
     ]
    },
    {
     "data": {
      "text/plain": [
       "(2.0000000003725287, 'Root 2.0000000003725287 found after 28 iterations')"
      ]
     },
     "execution_count": 121,
     "metadata": {},
     "output_type": "execute_result"
    }
   ],
   "source": [
    "bisection(test_polynomial, a = 1, b = 2.9)"
   ]
  },
  {
   "cell_type": "markdown",
   "metadata": {},
   "source": [
    "# Newton-Raphson"
   ]
  },
  {
   "cell_type": "code",
   "execution_count": 123,
   "metadata": {},
   "outputs": [],
   "source": [
    "def newtonRaphson(function,a,tolerance = 1e-9, maxIter = 50):\n",
    "    poly = Polynomial(function)\n",
    "    diff = poly.differentiate()\n",
    "    \n",
    "    print(poly)\n",
    "    print(diff)\n",
    "    \n",
    "    iteration = 0\n",
    "    a1 = a # anything really\n",
    "    \n",
    "    while iteration <= maxIter:\n",
    "        iteration += 1\n",
    "        \n",
    "        a1 = a - poly.evaluate(a)/diff.evaluate(a)\n",
    "        \n",
    "        if abs(a1 - a) < tolerance:\n",
    "            return a1, f'Root {a1} found after {iteration} iterations'\n",
    "        \n",
    "        print(f'Iteration: {iteration} x1: {a1} poly(a) : {poly.evaluate(a)} diff(a): {diff.evaluate(a)}')\n",
    "        \n",
    "        a = a1\n",
    "        \n",
    "        \n",
    "    return f'Maxmium iterations reached, none found after {maxIter} iterations'\n"
   ]
  },
  {
   "cell_type": "markdown",
   "metadata": {},
   "source": [
    "# "
   ]
  },
  {
   "cell_type": "code",
   "execution_count": 124,
   "metadata": {},
   "outputs": [
    {
     "name": "stdout",
     "output_type": "stream",
     "text": [
      "x^3-5x+3\n",
      "3.0x^2-5.0\n",
      "Iteration: 1 x1: 2.3181818181818183 poly(a) : 15.0 diff(a): 22.0\n",
      "Iteration: 2 x1: 1.9704963437083074 poly(a) : 3.86692336589031 diff(a): 11.121900826446282\n",
      "Iteration: 3 x1: 1.8503694869325265 poly(a) : 0.7986715184437756 diff(a): 6.6485675217034235\n",
      "Iteration: 4 x1: 1.8345162349831725 poly(a) : 0.08357203015681769 diff(a): 5.271601714512823\n",
      "Iteration: 5 x1: 1.8342432648236864 poly(a) : 0.0013911513219584393 diff(a): 5.0963494492505035\n",
      "Iteration: 6 x1: 1.8342431843139289 poly(a) : 4.1006397566434316e-07 diff(a): 5.093345063653167\n"
     ]
    },
    {
     "data": {
      "text/plain": [
       "(1.8342431843139217, 'Root 1.8342431843139217 found after 7 iterations')"
      ]
     },
     "execution_count": 124,
     "metadata": {},
     "output_type": "execute_result"
    }
   ],
   "source": [
    "test_polynomial_2 = [1,0,-5,3]\n",
    "\n",
    "newtonRaphson(test_polynomial_2,3)\n",
    "\n"
   ]
  },
  {
   "cell_type": "markdown",
   "metadata": {},
   "source": [
    "# Secant Method\n",
    "\n",
    "Similar to the Newton-Raphson Method but doesnt require finding the value of the derivative which is a major disadvantage of newton-raphson. There are functions for which this is extremely difficult if not impossible or time consuming. "
   ]
  },
  {
   "cell_type": "code",
   "execution_count": 125,
   "metadata": {},
   "outputs": [],
   "source": [
    "def secant(function, a, b, tolerance = 1e-9, maxIter = 50):\n",
    "    poly = Polynomial(function)\n",
    "    \n",
    "    iteration = 0\n",
    "    \n",
    "    while iteration < maxIter:\n",
    "        iteration += 1       \n",
    "    \n",
    "        fa  = poly.evaluate(a)\n",
    "        fb = poly.evaluate(b)\n",
    "        \n",
    "        c = b - fb * (b - a) / (fb - fa)\n",
    "        \n",
    "\n",
    "        if abs(b - a) < tolerance:\n",
    "            return c, f'Root {c} found after {iteration} iterations'\n",
    "        \n",
    "        print(f'Iteration: {iteration}, x: {c}')\n",
    "        \n",
    "\n",
    "        a, b = b, c\n",
    "\n",
    "    return f'Maxmium iterations reached, none found after {maxIter} iterations'\n"
   ]
  },
  {
   "cell_type": "code",
   "execution_count": 126,
   "metadata": {},
   "outputs": [
    {
     "name": "stdout",
     "output_type": "stream",
     "text": [
      "Iteration: 1, x: 2.53125\n",
      "Iteration: 2, x: 2.2929095874862555\n",
      "Iteration: 3, x: 2.0049640996646794\n",
      "Iteration: 4, x: 1.8883496749906943\n",
      "Iteration: 5, x: 1.842546319222031\n",
      "Iteration: 6, x: 1.8347027542104408\n",
      "Iteration: 7, x: 1.83424727467405\n",
      "Iteration: 8, x: 1.8342431863439745\n"
     ]
    },
    {
     "data": {
      "text/plain": [
       "(1.8342431843139306, 'Root 1.8342431843139306 found after 9 iterations')"
      ]
     },
     "execution_count": 126,
     "metadata": {},
     "output_type": "execute_result"
    }
   ],
   "source": [
    "secantMethod(test_polynomial_2,3,4)"
   ]
  },
  {
   "cell_type": "markdown",
   "metadata": {},
   "source": [
    "# Regula False Method\n",
    "\n",
    "Also known as the Method of False Position. The bisection method is often called a bracket method because every interval brackets the root. The newton-raphson and secant method are not bracket methods because there is no guarantee that the two succesive approximations will bracket the root. \n",
    "\n",
    "However the secand method can easily be modified to make it a bracket method. \n",
    "\n"
   ]
  },
  {
   "cell_type": "code",
   "execution_count": 164,
   "metadata": {},
   "outputs": [],
   "source": [
    "def regulaFalsi(function, a,b, tolerance = 1e-9, maxIter = 500):\n",
    "    \n",
    "    poly = Polynomial(function)\n",
    "    \n",
    "    iteration = 0\n",
    "    \n",
    "    while iteration <= maxIter:\n",
    "        iteration += 1\n",
    "        \n",
    "        fa = poly.evaluate(a)\n",
    "        fb = poly.evaluate(b)\n",
    "        c = b - fb * (b - a)/(fb - fa)\n",
    "        fc = poly.evaluate(c)\n",
    "        \n",
    "        print(f'Iteration: {iteration}, x: {c}, error: {abs(c-b)}')\n",
    "        \n",
    "        if abs(c-b) < tolerance:\n",
    "            return c, f'Root {c} found after {iteration} iterations'\n",
    "        \n",
    "        else:\n",
    "            if fa * fc < 0:\n",
    "                b = c\n",
    "                a = b\n",
    "            else:\n",
    "                b = c\n",
    "                a = a \n",
    "        \n",
    "    return f'Maxmium iterations reached, none found after {maxIter} iterations'   \n",
    "    "
   ]
  },
  {
   "cell_type": "code",
   "execution_count": 165,
   "metadata": {},
   "outputs": [
    {
     "name": "stdout",
     "output_type": "stream",
     "text": [
      "Iteration: 1, x: 2.53125, error: 1.46875\n",
      "Iteration: 2, x: 2.1667118754407855, error: 0.3645381245592145\n",
      "Iteration: 3, x: 2.012818614620375, error: 0.15389326082041066\n",
      "Iteration: 4, x: 1.9354072258613704, error: 0.07741138875900444\n",
      "Iteration: 5, x: 1.89315416502265, error: 0.04225306083872038\n",
      "Iteration: 6, x: 1.869076379353497, error: 0.024077785669152973\n",
      "Iteration: 7, x: 1.8550208858812356, error: 0.014055493472261427\n",
      "Iteration: 8, x: 1.8467007889628957, error: 0.008320096918339903\n",
      "Iteration: 9, x: 1.8417351701470672, error: 0.004965618815828465\n",
      "Iteration: 10, x: 1.8387570813689198, error: 0.0029780887781474252\n",
      "Iteration: 11, x: 1.8369657727306834, error: 0.0017913086382363996\n",
      "Iteration: 12, x: 1.8358864152326848, error: 0.0010793574979985898\n",
      "Iteration: 13, x: 1.8352353581102183, error: 0.0006510571224664918\n",
      "Iteration: 14, x: 1.834842397015022, error: 0.00039296109519626476\n",
      "Iteration: 15, x: 1.8346051247530566, error: 0.00023727226196545992\n",
      "Iteration: 16, x: 1.8344618250872238, error: 0.00014329966583281895\n",
      "Iteration: 17, x: 1.834375267677361, error: 8.655740986274196e-05\n",
      "Iteration: 18, x: 1.834322979910949, error: 5.2287766411973635e-05\n",
      "Iteration: 19, x: 1.8342913922013915, error: 3.158770955757895e-05\n",
      "Iteration: 20, x: 1.834272309071893, error: 1.9083129498387308e-05\n",
      "Iteration: 21, x: 1.8342607801376158, error: 1.1528934277249547e-05\n",
      "Iteration: 22, x: 1.834253814937064, error: 6.9652005518783255e-06\n",
      "Iteration: 23, x: 1.8342496068855647, error: 4.20805149925485e-06\n",
      "Iteration: 24, x: 1.8342470645653317, error: 2.5423202330010497e-06\n",
      "Iteration: 25, x: 1.834245528603085, error: 1.5359622467236989e-06\n",
      "Iteration: 26, x: 1.834244600638332, error: 9.279647530391344e-07\n",
      "Iteration: 27, x: 1.834244039999966, error: 5.606383659539915e-07\n",
      "Iteration: 28, x: 1.834243701285, error: 3.3871496607496e-07\n",
      "Iteration: 29, x: 1.834243496647085, error: 2.046379148357147e-07\n",
      "Iteration: 30, x: 1.8342433730130896, error: 1.2363399548576126e-07\n",
      "Iteration: 31, x: 1.8342432983183943, error: 7.469469531784512e-08\n",
      "Iteration: 32, x: 1.8342432531908557, error: 4.5127538594869065e-08\n",
      "Iteration: 33, x: 1.834243225926606, error: 2.7264249746750124e-08\n",
      "Iteration: 34, x: 1.8342432094546386, error: 1.6471967345665917e-08\n",
      "Iteration: 35, x: 1.8342431995029358, error: 9.951702795163442e-09\n",
      "Iteration: 36, x: 1.8342431934905157, error: 6.012420117329498e-09\n",
      "Iteration: 37, x: 1.8342431898580522, error: 3.63246344114998e-09\n",
      "Iteration: 38, x: 1.8342431876634633, error: 2.194588955006793e-09\n",
      "Iteration: 39, x: 1.8342431863375805, error: 1.3258827369355686e-09\n",
      "Iteration: 40, x: 1.8342431855365353, error: 8.010452301476789e-10\n"
     ]
    },
    {
     "data": {
      "text/plain": [
       "(1.8342431855365353, 'Root 1.8342431855365353 found after 40 iterations')"
      ]
     },
     "execution_count": 165,
     "metadata": {},
     "output_type": "execute_result"
    }
   ],
   "source": [
    "test_polynomial_2 = [1,0,-5,3]\n",
    "\n",
    "\n",
    "regulaFalsi(test_polynomial_2,3,4)"
   ]
  },
  {
   "cell_type": "markdown",
   "metadata": {},
   "source": [
    "# Bairstow Method"
   ]
  },
  {
   "cell_type": "code",
   "execution_count": null,
   "metadata": {},
   "outputs": [],
   "source": [
    "def Bairstow():\n",
    "    \n"
   ]
  }
 ],
 "metadata": {
  "kernelspec": {
   "display_name": "Python 3",
   "language": "python",
   "name": "python3"
  },
  "language_info": {
   "codemirror_mode": {
    "name": "ipython",
    "version": 3
   },
   "file_extension": ".py",
   "mimetype": "text/x-python",
   "name": "python",
   "nbconvert_exporter": "python",
   "pygments_lexer": "ipython3",
   "version": "3.11.4"
  },
  "orig_nbformat": 4
 },
 "nbformat": 4,
 "nbformat_minor": 2
}
