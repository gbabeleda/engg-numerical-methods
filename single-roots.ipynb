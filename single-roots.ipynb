{
 "cells": [
  {
   "cell_type": "code",
   "execution_count": 7,
   "metadata": {},
   "outputs": [],
   "source": [
    "import numpy as np\n",
    "import scipy as sp"
   ]
  },
  {
   "cell_type": "code",
   "execution_count": 9,
   "metadata": {},
   "outputs": [],
   "source": [
    "# to create a representation of the polynomial\n",
    "\n",
    "# highest degree of the polynomial\n",
    "\n",
    "def getDegree():\n",
    "    while True:\n",
    "        try:\n",
    "            degree = int(input('What is the degree of the equation'))\n",
    "            if degree > 0:\n",
    "                return degree\n",
    "            else:\n",
    "                print('Please input a positive integer')\n",
    "        except ValueError:\n",
    "            print('Input must be an int')\n",
    "\n",
    "# based on the highest degree, represent the equation as a np array\n",
    "\n",
    "def getEquation(degree):\n",
    "    Array = np.array([])\n",
    "    \n",
    "    for i in range(degree + 1):\n",
    "        if i == degree:\n",
    "            coefficient = int(input(f'What is the coefficient of the constant: '))\n",
    "        else:\n",
    "            coefficient = int(input(f'What is the coefficient of the term x^{degree-i}: '))\n",
    "        \n",
    "        Array = np.append(Array,coefficient)\n",
    "        \n",
    "    print(Array)\n",
    "\n",
    "# get interval [a,b]\n",
    "\n",
    "def getInterval():\n",
    "    interval = np.array([])\n",
    "    \n",
    "    while len(interval) <2:\n",
    "        try:\n",
    "            if len(interval) == 0:\n",
    "                lower = int(input('What is a: '))\n",
    "                interval = np.append(interval,lower)\n",
    "            elif len(interval) == 1:\n",
    "                upper = int(input('What is b: '))\n",
    "                interval = np.append(interval,upper)\n",
    "        except ValueError:\n",
    "            print('Please input an integer')\n",
    "    \n",
    "    print(f'Interval [a,b] is {interval}')\n",
    "    return interval\n",
    "        "
   ]
  },
  {
   "cell_type": "code",
   "execution_count": 8,
   "metadata": {},
   "outputs": [
    {
     "name": "stdout",
     "output_type": "stream",
     "text": [
      "[1. 2. 1.]\n"
     ]
    }
   ],
   "source": [
    "getEquation(getDegree())"
   ]
  },
  {
   "cell_type": "code",
   "execution_count": 10,
   "metadata": {},
   "outputs": [
    {
     "name": "stdout",
     "output_type": "stream",
     "text": [
      "Interval [a,b] is [1. 5.]\n"
     ]
    },
    {
     "data": {
      "text/plain": [
       "array([1., 5.])"
      ]
     },
     "execution_count": 10,
     "metadata": {},
     "output_type": "execute_result"
    }
   ],
   "source": [
    "getInterval()"
   ]
  },
  {
   "cell_type": "markdown",
   "metadata": {},
   "source": [
    "# Bisection Method\n",
    "\n"
   ]
  },
  {
   "cell_type": "code",
   "execution_count": null,
   "metadata": {},
   "outputs": [],
   "source": [
    "def bisection():\n",
    "    \n",
    "    function = getEquation(getDegree())\n",
    "    a,b = getInterval()\n",
    "    \n",
    "    \n",
    "    \n",
    "    "
   ]
  },
  {
   "cell_type": "markdown",
   "metadata": {},
   "source": [
    "# Newton-Raphson"
   ]
  },
  {
   "cell_type": "code",
   "execution_count": null,
   "metadata": {},
   "outputs": [],
   "source": [
    "def newtonRaphson():\n",
    "    "
   ]
  },
  {
   "cell_type": "markdown",
   "metadata": {},
   "source": [
    "# "
   ]
  },
  {
   "cell_type": "markdown",
   "metadata": {},
   "source": [
    "# Secant Method"
   ]
  },
  {
   "cell_type": "code",
   "execution_count": null,
   "metadata": {},
   "outputs": [],
   "source": [
    "def secant():\n",
    "    "
   ]
  },
  {
   "cell_type": "markdown",
   "metadata": {},
   "source": [
    "# Regula False Method"
   ]
  },
  {
   "cell_type": "code",
   "execution_count": null,
   "metadata": {},
   "outputs": [],
   "source": [
    "def regulaFalsi():\n",
    "    "
   ]
  },
  {
   "cell_type": "markdown",
   "metadata": {},
   "source": [
    "# Bairstow Method"
   ]
  },
  {
   "cell_type": "code",
   "execution_count": null,
   "metadata": {},
   "outputs": [],
   "source": [
    "def Bairstow():\n",
    "    "
   ]
  }
 ],
 "metadata": {
  "kernelspec": {
   "display_name": "Python 3",
   "language": "python",
   "name": "python3"
  },
  "language_info": {
   "codemirror_mode": {
    "name": "ipython",
    "version": 3
   },
   "file_extension": ".py",
   "mimetype": "text/x-python",
   "name": "python",
   "nbconvert_exporter": "python",
   "pygments_lexer": "ipython3",
   "version": "3.11.4"
  },
  "orig_nbformat": 4
 },
 "nbformat": 4,
 "nbformat_minor": 2
}
